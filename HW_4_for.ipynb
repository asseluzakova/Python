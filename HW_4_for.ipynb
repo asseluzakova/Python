{
 "cells": [
  {
   "cell_type": "markdown",
   "id": "7487ae16",
   "metadata": {},
   "source": [
    "1. Расчет Суммы Чисел: Написать программу, которая использует цикл for для вычисления суммы всех чисел от 1 до 100."
   ]
  },
  {
   "cell_type": "code",
   "execution_count": 5,
   "id": "be7785f0",
   "metadata": {},
   "outputs": [
    {
     "name": "stdout",
     "output_type": "stream",
     "text": [
      "5050\n"
     ]
    }
   ],
   "source": [
    "sum=0\n",
    "for i in range(101):\n",
    "    sum=sum+i\n",
    "print(sum)"
   ]
  },
  {
   "cell_type": "markdown",
   "id": "412bfa65",
   "metadata": {},
   "source": [
    "2. Таблица Умножения: Используя цикл for, создать программу, которая выводит таблицу умножения для выбранного пользователем числа от 1 до 10. Например, если пользователь выберет число 5, программа должна вывести таблицу умножения на 5, то есть вот такой вывод:\n",
    "\n",
    "5 * 1 = 5\n",
    "\n",
    "5 * 2 = 10\n",
    "\n",
    "5 * 3 = 15\n",
    "\n",
    "5 * 4 = 20\n",
    "\n",
    "5 * 5 = 25\n",
    "\n",
    "5 * 6 = 30\n",
    "\n",
    "5 * 7 = 35\n",
    "\n",
    "5 * 8 = 40\n",
    "\n",
    "5 * 9 = 45\n",
    "\n",
    "5 * 10 = 50"
   ]
  },
  {
   "cell_type": "code",
   "execution_count": 13,
   "id": "ff61c767",
   "metadata": {},
   "outputs": [
    {
     "name": "stdout",
     "output_type": "stream",
     "text": [
      "Введите число:5\n",
      "5 * 1 = 5\n",
      "5 * 2 = 10\n",
      "5 * 3 = 15\n",
      "5 * 4 = 20\n",
      "5 * 5 = 25\n",
      "5 * 6 = 30\n",
      "5 * 7 = 35\n",
      "5 * 8 = 40\n",
      "5 * 9 = 45\n",
      "5 * 10 = 50\n"
     ]
    }
   ],
   "source": [
    "number = int(input(\"Введите число:\"))\n",
    "for i in range(1,11):\n",
    "    print(number,\"*\",i,\"=\",number*i)"
   ]
  },
  {
   "cell_type": "markdown",
   "id": "b60740ca",
   "metadata": {},
   "source": [
    "3. Генерация Списка Четных Чисел: Написать программу, использующую цикл for, для создания и вывода списка всех четных чисел от 2 до 20."
   ]
  },
  {
   "cell_type": "code",
   "execution_count": 14,
   "id": "6ea31cf3",
   "metadata": {},
   "outputs": [
    {
     "name": "stdout",
     "output_type": "stream",
     "text": [
      "[2, 4, 6, 8, 10, 12, 14, 16, 18, 20]\n"
     ]
    }
   ],
   "source": [
    "spisok=[]\n",
    "for i in range(2,21):\n",
    "    if i%2==0:\n",
    "        spisok.append(i)\n",
    "print(spisok)"
   ]
  },
  {
   "cell_type": "markdown",
   "id": "f22db56c",
   "metadata": {},
   "source": [
    "4. Обратный Отсчет: Создать программу, которая использует цикл for для вывода обратного отсчета от 10 до 0, после чего выводит сообщение \"Пуск!\"."
   ]
  },
  {
   "cell_type": "code",
   "execution_count": 30,
   "id": "00ab2a65",
   "metadata": {},
   "outputs": [
    {
     "name": "stdout",
     "output_type": "stream",
     "text": [
      "10\n",
      "9\n",
      "8\n",
      "7\n",
      "6\n",
      "5\n",
      "4\n",
      "3\n",
      "2\n",
      "1\n",
      "0\n",
      "Пуск!\n"
     ]
    }
   ],
   "source": [
    "for i in range(10, -1, -1):\n",
    "    print(i)\n",
    "else:\n",
    "    print('Пуск!')"
   ]
  },
  {
   "cell_type": "markdown",
   "id": "10d2fb49",
   "metadata": {},
   "source": [
    "\n",
    "5. Работа со Строками: Написать программу, которая принимает строку от пользователя и использует цикл for для вывода каждого символа этой строки в столбик. Например, для строки \"Привет\" программа должна вывести:\n",
    "\n",
    "П\n",
    "\n",
    "р\n",
    "\n",
    "и\n",
    "\n",
    "в\n",
    "\n",
    "е\n",
    "\n",
    "т"
   ]
  },
  {
   "cell_type": "code",
   "execution_count": 32,
   "id": "aa16cc49",
   "metadata": {},
   "outputs": [
    {
     "name": "stdout",
     "output_type": "stream",
     "text": [
      "Введите слово:English\n",
      "E\n",
      "n\n",
      "g\n",
      "l\n",
      "i\n",
      "s\n",
      "h\n"
     ]
    }
   ],
   "source": [
    "word=input(\"Введите слово:\")\n",
    "for i in word:\n",
    "    print(i)"
   ]
  },
  {
   "cell_type": "code",
   "execution_count": null,
   "id": "a881670a",
   "metadata": {},
   "outputs": [],
   "source": []
  }
 ],
 "metadata": {
  "kernelspec": {
   "display_name": "Python 3 (ipykernel)",
   "language": "python",
   "name": "python3"
  },
  "language_info": {
   "codemirror_mode": {
    "name": "ipython",
    "version": 3
   },
   "file_extension": ".py",
   "mimetype": "text/x-python",
   "name": "python",
   "nbconvert_exporter": "python",
   "pygments_lexer": "ipython3",
   "version": "3.11.5"
  }
 },
 "nbformat": 4,
 "nbformat_minor": 5
}
