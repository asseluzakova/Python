{
 "cells": [
  {
   "cell_type": "markdown",
   "id": "f1be2523",
   "metadata": {},
   "source": [
    "1. Основы NumPy: Создайте массив NumPy из списка, содержащего числа от 1 до 10. Выведите этот массив."
   ]
  },
  {
   "cell_type": "code",
   "execution_count": 4,
   "id": "0f155c26",
   "metadata": {},
   "outputs": [],
   "source": [
    "import numpy as np"
   ]
  },
  {
   "cell_type": "code",
   "execution_count": 5,
   "id": "7edace23",
   "metadata": {},
   "outputs": [
    {
     "name": "stdout",
     "output_type": "stream",
     "text": [
      "[ 1  2  3  4  5  6  7  8  9 10]\n"
     ]
    }
   ],
   "source": [
    "arr1d=np.array([1,2,3,4,5,6,7,8,9,10])\n",
    "print(arr1d)"
   ]
  },
  {
   "cell_type": "markdown",
   "id": "c569e6f5",
   "metadata": {},
   "source": [
    "2. Операции с массивами: Создайте два массива NumPy: первый с элементами от 1 до 5, второй - с элементами от 6 до 10. Выполните поэлементное сложение этих массивов."
   ]
  },
  {
   "cell_type": "code",
   "execution_count": 6,
   "id": "dc2b1488",
   "metadata": {},
   "outputs": [
    {
     "name": "stdout",
     "output_type": "stream",
     "text": [
      "[ 7  9 11 13 15]\n"
     ]
    }
   ],
   "source": [
    "arr1=np.array([1,2,3,4,5])\n",
    "arr2=np.array([6,7,8,9,10])\n",
    "s=arr1+arr2\n",
    "print(s)"
   ]
  },
  {
   "cell_type": "markdown",
   "id": "07642590",
   "metadata": {},
   "source": [
    "3. Индексация и срезы: Создайте одномерный массив из первых 10 целых чисел. Выведите все четные элементы этого массива (используйте индексацию также как для списков)."
   ]
  },
  {
   "cell_type": "code",
   "execution_count": 7,
   "id": "bfbdb13c",
   "metadata": {},
   "outputs": [
    {
     "data": {
      "text/plain": [
       "array([ 1,  2,  3,  4,  5,  6,  7,  8,  9, 10])"
      ]
     },
     "execution_count": 7,
     "metadata": {},
     "output_type": "execute_result"
    }
   ],
   "source": [
    "arr1d"
   ]
  },
  {
   "cell_type": "code",
   "execution_count": 11,
   "id": "3f6377ac",
   "metadata": {},
   "outputs": [
    {
     "name": "stdout",
     "output_type": "stream",
     "text": [
      "2\n",
      "4\n",
      "6\n",
      "8\n",
      "10\n"
     ]
    }
   ],
   "source": [
    "for i in range(len(arr1d)):\n",
    "    if arr1d[i]%2==0:\n",
    "        print(arr1d[i])"
   ]
  },
  {
   "cell_type": "code",
   "execution_count": null,
   "id": "d6a96829",
   "metadata": {},
   "outputs": [],
   "source": []
  }
 ],
 "metadata": {
  "kernelspec": {
   "display_name": "Python 3 (ipykernel)",
   "language": "python",
   "name": "python3"
  },
  "language_info": {
   "codemirror_mode": {
    "name": "ipython",
    "version": 3
   },
   "file_extension": ".py",
   "mimetype": "text/x-python",
   "name": "python",
   "nbconvert_exporter": "python",
   "pygments_lexer": "ipython3",
   "version": "3.11.5"
  }
 },
 "nbformat": 4,
 "nbformat_minor": 5
}
