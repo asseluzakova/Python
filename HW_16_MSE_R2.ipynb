{
 "cells": [
  {
   "cell_type": "markdown",
   "id": "5bc2f1bb",
   "metadata": {},
   "source": [
    "Задача 3 - Построение модели машинного обучения\n",
    "\n",
    "Вы работаете аналитиком данных в медицинской исследовательской лаборатории, специализирующейся на изучении диабета. Ваша текущая задача — разработать модель машинного обучения, которая сможет предсказывать уровень прогрессирования диабета у пациентов через год после первоначального измерения, на основе различных диагностических показателей.\n",
    "\n",
    "\n",
    "\n",
    "Для этого у вас есть датасет, содержащий данные 442 пациентов, включая 10 базовых диагностических показателей, таких как возраст, пол, индекс массы тела, среднее артериальное давление и шесть показателей крови.\n",
    "\n",
    "\n",
    "\n",
    "Цель: Используйте датасет load_diabetes из библиотеки sklearn для создания модели линейной регрессии, которая будет предсказывать количественную меру прогрессирования диабета у пациента через год после исходных измерений.\n",
    "\n",
    "\n",
    "\n",
    "Основные шаги:\n",
    "\n",
    "Загрузите датасет load_diabetes с помощью sklearn.datasets.\n",
    "\n",
    "Проведите предварительный анализ данных для ознакомления с набором данных и его характеристиками.\n",
    "\n",
    "Разделите данные на обучающую и тестовую выборки.\n",
    "\n",
    "Создайте модель линейной регрессии и обучите ее на обучающей выборке.\n",
    "\n",
    "Сделайте предсказания на тестовой выборке.\n",
    "\n",
    "Оцените качество модели, рассчитав среднеквадратичную ошибку (MSE) и коэффициент детерминации R^2"
   ]
  },
  {
   "cell_type": "markdown",
   "id": "030a43b5",
   "metadata": {},
   "source": [
    "from sklearn.datasets import load_diabetes\n",
    "from sklearn.model_selection import train_test_split\n",
    "from sklearn.linear_model import LinearRegression\n",
    "from sklearn.metrics import mean_squared_error,r2_score\n",
    "\n",
    "diabetes= load_diabetes()\n",
    "X = diabetes.data\n",
    "y = diabetes.target\n",
    "\n",
    "X_train, X_test, y_train, y_test = train_test_split(X, y, test_size=0.3, random_state=42)\n",
    "\n",
    "model = LinearRegression()\n",
    "model.fit(X_train, y_train)\n",
    "\n",
    "y_pred = model.predict(X_test)\n",
    "\n",
    "mse = mean_squared_error(y_test, y_pred)\n",
    "r2 = r2_score(y_test, y_pred)\n",
    "\n",
    "print(f\"Mean Squared Error: {mse}\")\n",
    "print(f\"R^2 Score: {r2}\")"
   ]
  },
  {
   "cell_type": "markdown",
   "id": "83e90a46",
   "metadata": {},
   "source": [
    "Задача 1 - Линейная регрессия\n",
    "\n",
    "Используйте таблицу (excel файл \"ДЗ\"), связанную с прогнозированием продаж продукции в зависимости от различных маркетинговых кампаний. В таблице \"Фактические продажи\" и \"Предсказанные продажи\" представлены в виде количества проданных единиц.\n",
    "\n",
    "Вычислите среднеквадратичную ошибку (MSE) и среднюю абсолютную ошибку (MAE)\n",
    "\n",
    "\n",
    "\n",
    "Задача 2 - Коэффициент детерминации\n",
    "\n",
    "Используя данные о фактических и предсказанных продажах из предыдущего задания, мы можем рассчитать R^2, чтобы оценить, насколько хорошо предсказания согласуются с фактическими продажами. Рассчитайте коэффициент детерминации для предоставленных данных."
   ]
  },
  {
   "cell_type": "code",
   "execution_count": 1,
   "id": "17122b6c",
   "metadata": {},
   "outputs": [],
   "source": [
    "import pandas as pd\n",
    "import numpy as np\n",
    "df=pd.read_excel('ДЗ.xlsx',sheet_name='Лист1')"
   ]
  },
  {
   "cell_type": "code",
   "execution_count": 2,
   "id": "e92df504",
   "metadata": {},
   "outputs": [
    {
     "data": {
      "text/html": [
       "<div>\n",
       "<style scoped>\n",
       "    .dataframe tbody tr th:only-of-type {\n",
       "        vertical-align: middle;\n",
       "    }\n",
       "\n",
       "    .dataframe tbody tr th {\n",
       "        vertical-align: top;\n",
       "    }\n",
       "\n",
       "    .dataframe thead th {\n",
       "        text-align: right;\n",
       "    }\n",
       "</style>\n",
       "<table border=\"1\" class=\"dataframe\">\n",
       "  <thead>\n",
       "    <tr style=\"text-align: right;\">\n",
       "      <th></th>\n",
       "      <th>ID</th>\n",
       "      <th>Фактические продажи</th>\n",
       "      <th>Предсказанные продажи</th>\n",
       "    </tr>\n",
       "  </thead>\n",
       "  <tbody>\n",
       "    <tr>\n",
       "      <th>0</th>\n",
       "      <td>1</td>\n",
       "      <td>84</td>\n",
       "      <td>153</td>\n",
       "    </tr>\n",
       "    <tr>\n",
       "      <th>1</th>\n",
       "      <td>2</td>\n",
       "      <td>178</td>\n",
       "      <td>106</td>\n",
       "    </tr>\n",
       "    <tr>\n",
       "      <th>2</th>\n",
       "      <td>3</td>\n",
       "      <td>178</td>\n",
       "      <td>170</td>\n",
       "    </tr>\n",
       "    <tr>\n",
       "      <th>3</th>\n",
       "      <td>4</td>\n",
       "      <td>103</td>\n",
       "      <td>51</td>\n",
       "    </tr>\n",
       "    <tr>\n",
       "      <th>4</th>\n",
       "      <td>5</td>\n",
       "      <td>183</td>\n",
       "      <td>115</td>\n",
       "    </tr>\n",
       "    <tr>\n",
       "      <th>5</th>\n",
       "      <td>6</td>\n",
       "      <td>88</td>\n",
       "      <td>107</td>\n",
       "    </tr>\n",
       "    <tr>\n",
       "      <th>6</th>\n",
       "      <td>7</td>\n",
       "      <td>67</td>\n",
       "      <td>85</td>\n",
       "    </tr>\n",
       "    <tr>\n",
       "      <th>7</th>\n",
       "      <td>8</td>\n",
       "      <td>129</td>\n",
       "      <td>152</td>\n",
       "    </tr>\n",
       "    <tr>\n",
       "      <th>8</th>\n",
       "      <td>9</td>\n",
       "      <td>182</td>\n",
       "      <td>203</td>\n",
       "    </tr>\n",
       "  </tbody>\n",
       "</table>\n",
       "</div>"
      ],
      "text/plain": [
       "   ID  Фактические продажи  Предсказанные продажи\n",
       "0   1                   84                    153\n",
       "1   2                  178                    106\n",
       "2   3                  178                    170\n",
       "3   4                  103                     51\n",
       "4   5                  183                    115\n",
       "5   6                   88                    107\n",
       "6   7                   67                     85\n",
       "7   8                  129                    152\n",
       "8   9                  182                    203"
      ]
     },
     "execution_count": 2,
     "metadata": {},
     "output_type": "execute_result"
    }
   ],
   "source": [
    "df"
   ]
  },
  {
   "cell_type": "code",
   "execution_count": 29,
   "id": "2c59766a",
   "metadata": {},
   "outputs": [
    {
     "name": "stdout",
     "output_type": "stream",
     "text": [
      "MSE: 2110.222222222222\n",
      "MAE: 38.888888888888886\n",
      "R2: -0.018544119750202537\n"
     ]
    }
   ],
   "source": [
    "df_fact = df['Фактические продажи ']\n",
    "df_pred = df['Предсказанные продажи']\n",
    "\n",
    "mse = ((df_fact - df_pred) ** 2).mean()\n",
    "mae = np.abs(df_fact - df_pred).mean()\n",
    "mean_v = df_fact.mean()\n",
    "sst = ((df_fact - mean_v) ** 2).sum()\n",
    "ssr = ((df_fact - df_pred) ** 2).sum()\n",
    "r_squared = 1 - (ssr / sst)\n",
    "\n",
    "print(\"MSE:\", mse)\n",
    "print(\"MAE:\", mae)\n",
    "print(\"R2:\", r_squared)"
   ]
  }
 ],
 "metadata": {
  "kernelspec": {
   "display_name": "Python 3 (ipykernel)",
   "language": "python",
   "name": "python3"
  },
  "language_info": {
   "codemirror_mode": {
    "name": "ipython",
    "version": 3
   },
   "file_extension": ".py",
   "mimetype": "text/x-python",
   "name": "python",
   "nbconvert_exporter": "python",
   "pygments_lexer": "ipython3",
   "version": "3.11.5"
  }
 },
 "nbformat": 4,
 "nbformat_minor": 5
}
