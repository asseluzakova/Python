{
 "cells": [
  {
   "cell_type": "markdown",
   "id": "e754ded9",
   "metadata": {},
   "source": [
    "Задание 1: Словари\n",
    "\n",
    "1. Создайте словарь, представляющий ваш любимый фильм. Включите такие ключи, как 'название', 'год выпуска', 'жанр' и 'режиссер'.\n",
    "\n",
    "2. Добавьте в словарь список актеров в ключ 'актеры'.\n",
    "\n",
    "3. Напишите код, который выводит информацию о фильме в форматированном виде."
   ]
  },
  {
   "cell_type": "code",
   "execution_count": 2,
   "id": "24f9fc6c",
   "metadata": {},
   "outputs": [],
   "source": [
    "#1\n",
    "favourite_film={'название':'Гарри Потер','год выпуска':2001,'жанр':'фантастика','режиссер':'Крис Коламбус'}"
   ]
  },
  {
   "cell_type": "code",
   "execution_count": 4,
   "id": "5a395031",
   "metadata": {},
   "outputs": [],
   "source": [
    "#2\n",
    "favourite_film['актеры']='Эмма Уотсон'"
   ]
  },
  {
   "cell_type": "code",
   "execution_count": 12,
   "id": "473b57f8",
   "metadata": {},
   "outputs": [
    {
     "name": "stdout",
     "output_type": "stream",
     "text": [
      "dict_keys(['название', 'год выпуска', 'жанр', 'режиссер', 'актеры'])\n",
      "dict_values(['Гарри Потер', 2001, 'фантастика', 'Крис Коламбус', 'Эмма Уотсон'])\n"
     ]
    }
   ],
   "source": [
    "#3\n",
    "print(favourite_film.keys())\n",
    "print(favourite_film.values())"
   ]
  },
  {
   "cell_type": "markdown",
   "id": "6f08b8c2",
   "metadata": {},
   "source": [
    "Задание 2: Кортежи\n",
    "\n",
    "1. Создайте кортеж, содержащий различные типы данных (числа, строки, булевы значения).\n",
    "\n",
    "2. Напишите код, который выводит каждый элемент кортежа на отдельной строке с указанием его типа (используйте type()).\n"
   ]
  },
  {
   "cell_type": "code",
   "execution_count": 13,
   "id": "69b56fdf",
   "metadata": {},
   "outputs": [],
   "source": [
    "#1\n",
    "my_tuple=(1,2,3.2,'Assel',True)"
   ]
  },
  {
   "cell_type": "code",
   "execution_count": 37,
   "id": "d736ee21",
   "metadata": {},
   "outputs": [
    {
     "name": "stdout",
     "output_type": "stream",
     "text": [
      "element | type\n",
      "1       | <class 'int'>\n",
      "2       | <class 'int'>\n",
      "3.2     | <class 'float'>\n",
      "Assel   | <class 'str'>\n",
      "True    | <class 'bool'>\n"
     ]
    }
   ],
   "source": [
    "#2\n",
    "print('element | type')\n",
    "print(my_tuple[0],'      |',type(my_tuple[0]))\n",
    "print(my_tuple[1],'      |',type(my_tuple[1]))\n",
    "print(my_tuple[2],'    |',type(my_tuple[2]))\n",
    "print(my_tuple[3],'  |',type(my_tuple[3]))\n",
    "print(my_tuple[4],'   |',type(my_tuple[4]))"
   ]
  },
  {
   "cell_type": "markdown",
   "id": "65a810d5",
   "metadata": {},
   "source": [
    "Задание 3: Условный оператор IF\n",
    "\n",
    "1. Напишите программу, которая запрашивает у пользователя число.\n",
    "\n",
    "2. Используйте условный оператор if, чтобы определить, является ли число четным или нечетным, и выведите соответствующее сообщение."
   ]
  },
  {
   "cell_type": "code",
   "execution_count": 39,
   "id": "5a242da2",
   "metadata": {},
   "outputs": [
    {
     "name": "stdout",
     "output_type": "stream",
     "text": [
      "Введите число:3\n",
      "3  - нечетное число\n"
     ]
    }
   ],
   "source": [
    "number=int(input(\"Введите число:\"))\n",
    "if number%2==0:\n",
    "    print(number,\" - четное число\")\n",
    "else:\n",
    "    print(number,\" - нечетное число\")"
   ]
  },
  {
   "cell_type": "markdown",
   "id": "279d1377",
   "metadata": {},
   "source": [
    "Задание 4: Ввод данных\n",
    "\n",
    "1. Напишите программу, которая запрашивает у пользователя его имя и любимый цвет.\n",
    "\n",
    "2. Пусть программа выводит сообщение вида \"Привет, [имя]! Твой любимый цвет - [цвет].\""
   ]
  },
  {
   "cell_type": "code",
   "execution_count": 40,
   "id": "284fc033",
   "metadata": {},
   "outputs": [
    {
     "name": "stdout",
     "output_type": "stream",
     "text": [
      "Ваше имя: Assel\n",
      "Ваш любимый цвет: Blue\n",
      "Привет, Assel! Твой любимый цвет - Blue.\n"
     ]
    }
   ],
   "source": [
    "name=input(\"Ваше имя: \")\n",
    "color=input(\"Ваш любимый цвет: \")\n",
    "print(f\"Привет, {name}! Твой любимый цвет - {color}.\")"
   ]
  },
  {
   "cell_type": "code",
   "execution_count": null,
   "id": "ba462cdf",
   "metadata": {},
   "outputs": [],
   "source": []
  }
 ],
 "metadata": {
  "kernelspec": {
   "display_name": "Python 3 (ipykernel)",
   "language": "python",
   "name": "python3"
  },
  "language_info": {
   "codemirror_mode": {
    "name": "ipython",
    "version": 3
   },
   "file_extension": ".py",
   "mimetype": "text/x-python",
   "name": "python",
   "nbconvert_exporter": "python",
   "pygments_lexer": "ipython3",
   "version": "3.11.5"
  }
 },
 "nbformat": 4,
 "nbformat_minor": 5
}
