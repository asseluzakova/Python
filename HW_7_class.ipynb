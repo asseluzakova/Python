{
 "cells": [
  {
   "cell_type": "markdown",
   "id": "d4d114d4",
   "metadata": {},
   "source": [
    "Задача 1: Модуль для обработки строк\n",
    "\n",
    "Создайте модуль string_operations.py, который включает следующие функции:\n",
    "\n",
    "1. count_vowels(str) - возвращает количество гласных букв в строке.\n",
    "\n",
    "2. reverse_string(str) - возвращает строку в обратном порядке.\n",
    "\n",
    "3. is_palindrome(str) - проверяет, является ли строка палиндромом.\n",
    "\n",
    "4. capitalize_string(str) - возвращает строку, где каждое слово начинается с большой буквы."
   ]
  },
  {
   "cell_type": "code",
   "execution_count": 4,
   "id": "29749186",
   "metadata": {},
   "outputs": [
    {
     "ename": "IndentationError",
     "evalue": "unexpected indent (string_operations.py, line 13)",
     "output_type": "error",
     "traceback": [
      "Traceback \u001b[1;36m(most recent call last)\u001b[0m:\n",
      "\u001b[0m  File \u001b[0;32m~\\anaconda3\\Lib\\site-packages\\IPython\\core\\interactiveshell.py:3526\u001b[0m in \u001b[0;35mrun_code\u001b[0m\n    exec(code_obj, self.user_global_ns, self.user_ns)\u001b[0m\n",
      "\u001b[1;36m  Cell \u001b[1;32mIn[4], line 1\u001b[1;36m\n\u001b[1;33m    import string_operations as so\u001b[1;36m\n",
      "\u001b[1;36m  File \u001b[1;32m~\\Academica Python\\string_operations.py:13\u001b[1;36m\u001b[0m\n\u001b[1;33m    if str!=reverse_string(str): #str!=str[::-1]\u001b[0m\n\u001b[1;37m    ^\u001b[0m\n\u001b[1;31mIndentationError\u001b[0m\u001b[1;31m:\u001b[0m unexpected indent\n"
     ]
    }
   ],
   "source": [
    "import string_operations as so\n",
    "print(so.count_vowels(\"Асель\"))\n",
    "print(so.reverse_string('Assel'))\n",
    "print(so.is_palindrome('qazaq'))\n",
    "print(capitalize_string(\"Abdu ote tatti\") )"
   ]
  },
  {
   "cell_type": "markdown",
   "id": "fa7962e5",
   "metadata": {},
   "source": [
    "Задача 2: Класс Точка\n",
    "\n",
    "Определите класс Point, который представляет точку в двумерном пространстве.\n",
    "\n",
    "- Конструктор, принимающий координаты x и y.\n",
    "\n",
    "- Метод distance_to_origin(), возвращающий расстояние от точки до начала координат."
   ]
  },
  {
   "cell_type": "code",
   "execution_count": 4,
   "id": "e0b3cbc0",
   "metadata": {},
   "outputs": [],
   "source": [
    "class Point:\n",
    "    def __init__ (self,x,y):\n",
    "        self.x=x\n",
    "        self.y=y\n",
    "    def distance_to_origin(self):\n",
    "        return (self.x**2+self.y**2)**0.5\n",
    "point1=Point(2,4)"
   ]
  },
  {
   "cell_type": "code",
   "execution_count": 5,
   "id": "02ef413c",
   "metadata": {},
   "outputs": [
    {
     "data": {
      "text/plain": [
       "4.47213595499958"
      ]
     },
     "execution_count": 5,
     "metadata": {},
     "output_type": "execute_result"
    }
   ],
   "source": [
    "point1.distance_to_origin()"
   ]
  },
  {
   "cell_type": "markdown",
   "id": "097e6caf",
   "metadata": {},
   "source": [
    "Задача 3: Модуль конвертации единиц\n",
    "\n",
    "Создайте модуль unit_converters.py, который содержит функции для конвертации единиц измерения:\n",
    "\n",
    "1. km_to_miles(km) - переводит километры в мили.\n",
    "\n",
    "2. celsius_to_fahrenheit(celsius) - переводит градусы Цельсия в градусы Фаренгейта.\n",
    "\n",
    "3. liters_to_gallons(liters) - переводит литры в галлоны."
   ]
  },
  {
   "cell_type": "code",
   "execution_count": 59,
   "id": "0979f076",
   "metadata": {},
   "outputs": [
    {
     "name": "stdout",
     "output_type": "stream",
     "text": [
      "5 km = 3.106855 miles\n",
      "0 celsius = 32.0 fahrenheit\n",
      "32 litres = 8.453504 gallons\n"
     ]
    }
   ],
   "source": [
    "import unit_converters as uc\n",
    "print(f\"{5} km = {km_to_miles(5)} miles\")\n",
    "print(f\"{0} celsius = {celsius_to_fahrenheit(0)} fahrenheit\")\n",
    "print(f\"{32} litres = {liters_to_gallons(32)} gallons\")"
   ]
  },
  {
   "cell_type": "markdown",
   "id": "3339b7a0",
   "metadata": {},
   "source": [
    "Задача 4: Класс Книга\n",
    "\n",
    "Определите класс Book, который содержит информацию о книге:\n",
    "\n",
    "- Атрибуты title, author, pages.\n",
    "\n",
    "- Метод is_long(), который возвращает True, если книга содержит более 500 страниц."
   ]
  },
  {
   "cell_type": "code",
   "execution_count": 10,
   "id": "e3f89cb8",
   "metadata": {},
   "outputs": [],
   "source": [
    "class Book:\n",
    "    def __init__(self,title,author,pages):\n",
    "        self.title=title\n",
    "        self.author=author\n",
    "        self.pages=pages\n",
    "    def is_long(self):\n",
    "        return self.pages>500"
   ]
  },
  {
   "cell_type": "code",
   "execution_count": 11,
   "id": "25ec7a65",
   "metadata": {},
   "outputs": [],
   "source": [
    "book1=Book('Rizyq','Курмангазы Турмаханулы',237)"
   ]
  },
  {
   "cell_type": "code",
   "execution_count": 12,
   "id": "c6a218d8",
   "metadata": {},
   "outputs": [
    {
     "name": "stdout",
     "output_type": "stream",
     "text": [
      "Страниц книг больше 500?   False\n"
     ]
    }
   ],
   "source": [
    "print(\"Страниц книг больше 500?  \",book1.is_long())"
   ]
  },
  {
   "cell_type": "markdown",
   "id": "8be72803",
   "metadata": {},
   "source": [
    " Задача 5: Класс \"Студент\"\n",
    "\n",
    "Создайте класс Student, который моделирует студента.\n",
    "\n",
    "- Конструктор, который принимает имя студента и инициализирует атрибуты name и grades (пустой список).\n",
    "\n",
    "- Метод add_grade(grade), который добавляет оценку в список оценок.\n",
    "\n",
    "- Метод get_average(), возвращающий средний балл студента."
   ]
  },
  {
   "cell_type": "code",
   "execution_count": 49,
   "id": "a67b3063",
   "metadata": {},
   "outputs": [],
   "source": [
    "class Student:\n",
    "    def __init__(self,name,grades):\n",
    "        self.name=name\n",
    "        self.grades=grades\n",
    "    def add_grade(self,*grades):\n",
    "        for i in grades:\n",
    "            self.grades.append(i)\n",
    "        return self.grades\n",
    "    def get_average(self):\n",
    "        return sum(self.grades)/len(self.grades)"
   ]
  },
  {
   "cell_type": "code",
   "execution_count": 50,
   "id": "7afd971f",
   "metadata": {},
   "outputs": [],
   "source": [
    "student1=Student('Assel',[2,3,5,4])"
   ]
  },
  {
   "cell_type": "code",
   "execution_count": 51,
   "id": "4824b7dd",
   "metadata": {},
   "outputs": [
    {
     "data": {
      "text/plain": [
       "[2, 3, 5, 4, 4, 5]"
      ]
     },
     "execution_count": 51,
     "metadata": {},
     "output_type": "execute_result"
    }
   ],
   "source": [
    "student1.add_grade(4,5)"
   ]
  },
  {
   "cell_type": "code",
   "execution_count": 52,
   "id": "15f5eda9",
   "metadata": {},
   "outputs": [
    {
     "data": {
      "text/plain": [
       "3.8333333333333335"
      ]
     },
     "execution_count": 52,
     "metadata": {},
     "output_type": "execute_result"
    }
   ],
   "source": [
    "student1.get_average()"
   ]
  }
 ],
 "metadata": {
  "kernelspec": {
   "display_name": "Python 3 (ipykernel)",
   "language": "python",
   "name": "python3"
  },
  "language_info": {
   "codemirror_mode": {
    "name": "ipython",
    "version": 3
   },
   "file_extension": ".py",
   "mimetype": "text/x-python",
   "name": "python",
   "nbconvert_exporter": "python",
   "pygments_lexer": "ipython3",
   "version": "3.11.5"
  }
 },
 "nbformat": 4,
 "nbformat_minor": 5
}
