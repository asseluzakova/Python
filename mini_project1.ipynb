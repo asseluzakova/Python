{
 "cells": [
  {
   "cell_type": "markdown",
   "id": "ed2c5f2d",
   "metadata": {},
   "source": [
    "Вам дан файл users.txt. Вы должны сделать следующие действия:\n",
    "\n",
    "Прочитать этот файл построчно. Пожалуйста, используйте для этого try catch. Если файл не найден, напечатайте следующий текст: «the file that you would like to read is not found». Для любых других ошибок, пожалуйста, напечатайте следующее сообщение: \"some error occured\"\n",
    "\n",
    "Создайте класс Users со следующими атрибутами и функциями:\n",
    "\n",
    "a) имя\n",
    "\n",
    "b) фамилия\n",
    "\n",
    "c) год рождения\n",
    "\n",
    "d) адрес электронной почты\n",
    "\n",
    "e) getAge(): возвращает возраст пользователя, принимая во внимание, что текущий год 2023\n",
    "\n",
    "преобразовать каждую строку файла в объект класса Users и сохранить их все в списке. Чтобы разделить слова, разделенные запятой, используйте функцию split(). Например, если: s = \"a,b,c\", тогда t = s.split(',') вернет ['a', 'b', 'c']. Таким образом разделите данные в каждой строке на отдельные части и присвойте эти значения атрибутам класса «Users».\n",
    "\n",
    "написать функцию filter(low, high, users), которая будет принимать параметры по умолчанию \"low\"=30, \"high\"=50 и простой параметр - список объектов класса Users. Функция должна пройтись по всем пользователям и проверить возраст с параметрами low и high. Мы должны вернуть только тех пользователей, чей возраст выше нижнего параметра low и ниже верхнего параметра high. Распечатайте их адрес электронной почты и возраст. Пожалуйста, разделите данные (адрес электронной почты и возраст) запятой. Затем вызовите эту функцию."
   ]
  },
  {
   "cell_type": "code",
   "execution_count": 2,
   "id": "ceeb2f5c",
   "metadata": {},
   "outputs": [
    {
     "name": "stdout",
     "output_type": "stream",
     "text": [
      "magzhan.kairanbay@gmail.com, 32\n",
      "john.see@gmail.com, 42\n",
      "andrey.karpathy@gmail.com, 42\n",
      "clarence.lim@gmail.com, 38\n",
      "chris.brown@gmail.com, 34\n",
      "justin.bieber@gmail.com, 31\n"
     ]
    }
   ],
   "source": [
    "class Users:\n",
    "    def __init__(self, ID, first_name, last_name, email, birth_year):\n",
    "        self.ID = ID\n",
    "        self.first_name = first_name\n",
    "        self.last_name = last_name\n",
    "        self.email = email\n",
    "        self.birth_year = birth_year\n",
    "\n",
    "    def getAge(self, current_year=2023):\n",
    "        return current_year - self.birth_year\n",
    "\n",
    "def filter(low=30, high=50, users=[]):\n",
    "    filtered_users = []\n",
    "    for user in users:\n",
    "        age = user.getAge()\n",
    "        if low < age < high:\n",
    "            filtered_users.append(user)\n",
    "    return filtered_users\n",
    "\n",
    "try:\n",
    "    with open(\"users.txt\", \"r\") as file:\n",
    "        users_data = file.readlines()\n",
    "        users_list = []\n",
    "        for line in users_data:\n",
    "            info = line.split(',')\n",
    "            user = Users(info[0], info[1], info[2], info[3], int(info[4]))\n",
    "            users_list.append(user)\n",
    "\n",
    "    filtered_users = filter(users=users_list)\n",
    "    for user in filtered_users:\n",
    "        print(f\"{user.email}, {user.getAge()}\")\n",
    "\n",
    "except FileNotFoundError:\n",
    "    print(\"the file that you would like to read is not found\")\n",
    "except:\n",
    "    print(\"some error occured\")"
   ]
  },
  {
   "cell_type": "code",
   "execution_count": null,
   "id": "c425adb5",
   "metadata": {},
   "outputs": [],
   "source": []
  }
 ],
 "metadata": {
  "kernelspec": {
   "display_name": "Python 3 (ipykernel)",
   "language": "python",
   "name": "python3"
  },
  "language_info": {
   "codemirror_mode": {
    "name": "ipython",
    "version": 3
   },
   "file_extension": ".py",
   "mimetype": "text/x-python",
   "name": "python",
   "nbconvert_exporter": "python",
   "pygments_lexer": "ipython3",
   "version": "3.11.5"
  }
 },
 "nbformat": 4,
 "nbformat_minor": 5
}
