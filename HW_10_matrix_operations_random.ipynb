{
 "cells": [
  {
   "cell_type": "markdown",
   "id": "667fe89b",
   "metadata": {},
   "source": [
    "Задача 1 - Сложение и изменение формы массивов:\n",
    "\n",
    "● Создайте два одномерных массива из случайных целых чисел от 1 до 10.\n",
    "\n",
    "● Выполните поэлементное сложение этих двух массивов.\n",
    "\n",
    "● Измените форму полученного массива на матрицу 2x5.\n",
    "\n",
    "● Посчитайте среднее значение"
   ]
  },
  {
   "cell_type": "code",
   "execution_count": 5,
   "id": "3496fda0",
   "metadata": {},
   "outputs": [
    {
     "name": "stdout",
     "output_type": "stream",
     "text": [
      "[ 4  6 10  9  6  3  3  9  1  4]\n",
      "[ 4  9  2  2 10  6  9  4  6  5]\n",
      "[ 8 15 12 11 16  9 12 13  7  9]\n"
     ]
    }
   ],
   "source": [
    "import numpy as np\n",
    "import random\n",
    "arr1=np.random.randint(1,11,10)\n",
    "arr2=np.random.randint(1,11,10)\n",
    "sum=arr1+arr2\n",
    "print(arr1)\n",
    "print(arr2)\n",
    "print(sum)"
   ]
  },
  {
   "cell_type": "code",
   "execution_count": 6,
   "id": "bea51194",
   "metadata": {},
   "outputs": [
    {
     "name": "stdout",
     "output_type": "stream",
     "text": [
      "[[ 8 15 12 11 16]\n",
      " [ 9 12 13  7  9]]\n",
      "11.2\n"
     ]
    }
   ],
   "source": [
    "r_matrix=sum.reshape(2,5)\n",
    "mean_v=np.mean(r_matrix)\n",
    "print(r_matrix)\n",
    "print(mean_v)"
   ]
  },
  {
   "cell_type": "markdown",
   "id": "281b80c1",
   "metadata": {},
   "source": [
    "Задача 2 - Работа со срезами и формами:\n",
    "\n",
    "● Создайте массив размером 3x3 и выведите его первую строку и первый столбец.\n",
    "\n",
    "● Измените форму массива с помощью функции reshape и выведите его новую форму.\n",
    "\n",
    "● Используйте функцию flatten, чтобы преобразовать массив в одномерный."
   ]
  },
  {
   "cell_type": "code",
   "execution_count": 19,
   "id": "0e15ecc3",
   "metadata": {},
   "outputs": [
    {
     "name": "stdout",
     "output_type": "stream",
     "text": [
      "[[ 1  9  4]\n",
      " [10  8  5]\n",
      " [ 9  4  4]]\n",
      "[1 9 4]\n",
      "[ 1 10  9]\n"
     ]
    }
   ],
   "source": [
    "arr2d=np.random.randint(1,11,size=(3,3))\n",
    "print(arr2d)\n",
    "print(arr2d[0])\n",
    "print(arr2d[:,0])"
   ]
  },
  {
   "cell_type": "code",
   "execution_count": 27,
   "id": "e173edab",
   "metadata": {},
   "outputs": [
    {
     "name": "stdout",
     "output_type": "stream",
     "text": [
      "[[ 1  9  4 10  8  5  9  4  4]]\n",
      "[ 1  9  4 10  8  5  9  4  4]\n"
     ]
    }
   ],
   "source": [
    "r2_matrix=arr2d.reshape(1,9)# из 3х3 матрицы можно сделать только матрицу на (1,9)\n",
    "print(r2_matrix)\n",
    "f_matrix=arr2d.flatten()\n",
    "print(f_matrix)"
   ]
  },
  {
   "cell_type": "markdown",
   "id": "4a64fab9",
   "metadata": {},
   "source": [
    "Задача 3 - Генерация массива и объединение столбцов:\n",
    "\n",
    "● Создайте двумерный массив размером 4x3 с случайными целыми числами от 1 до 10.\n",
    "\n",
    "● Объедините столбцы этого массива в один столбец с использованием vstack."
   ]
  },
  {
   "cell_type": "code",
   "execution_count": 11,
   "id": "e360361f",
   "metadata": {},
   "outputs": [
    {
     "name": "stdout",
     "output_type": "stream",
     "text": [
      "[[5 8 8]\n",
      " [2 2 3]\n",
      " [1 4 4]\n",
      " [7 8 8]]\n",
      "[5 8 8 2 2 3 1 4 4 7 8 8]\n",
      "[[5]\n",
      " [8]\n",
      " [8]\n",
      " [2]\n",
      " [2]\n",
      " [3]\n",
      " [1]\n",
      " [4]\n",
      " [4]\n",
      " [7]\n",
      " [8]\n",
      " [8]]\n"
     ]
    }
   ],
   "source": [
    "arr3=np.random.randint(1,11,size=(4,3))\n",
    "print(arr3)\n",
    "arr4 = arr3.reshape(-1) # Преобразуем массив в одномерный массив\n",
    "print(arr4)\n",
    "stacked_array = np.vstack(arr4) # Используем vstack для объединения одномерных массивов\n",
    "print(stacked_array)"
   ]
  },
  {
   "cell_type": "markdown",
   "id": "e22690b8",
   "metadata": {},
   "source": [
    "Задача 4 - Генерация массива и индексирование:\n",
    "\n",
    "● Создайте массив из 9 случайных чисел от 1 до 30.\n",
    "\n",
    "● Найдите индекс максимального значения в массиве и выведите это значение."
   ]
  },
  {
   "cell_type": "code",
   "execution_count": 39,
   "id": "1dfd9e9b",
   "metadata": {},
   "outputs": [
    {
     "name": "stdout",
     "output_type": "stream",
     "text": [
      "[26 23 16  1 15 22 15 16  9]\n",
      "0\n"
     ]
    }
   ],
   "source": [
    "arr4=np.random.randint(1,31,size=9)\n",
    "print(arr4)\n",
    "max_index = np.argmax(arr4)\n",
    "print(max_index)"
   ]
  },
  {
   "cell_type": "markdown",
   "id": "10f10882",
   "metadata": {},
   "source": [
    "Задача 5 - Операции над массивами:\n",
    "\n",
    "● Создайте два массива, каждый размером 2x2, состоящих из случайных целых чисел от 1 до 5.\n",
    "\n",
    "● Транспонируйте один из массивов.\n",
    "\n",
    "● Сложите транспонированный массив с другим массивом."
   ]
  },
  {
   "cell_type": "code",
   "execution_count": 40,
   "id": "f1f7eeac",
   "metadata": {},
   "outputs": [
    {
     "name": "stdout",
     "output_type": "stream",
     "text": [
      "[[5 1]\n",
      " [5 1]]\n",
      "[[4 3]\n",
      " [5 5]]\n"
     ]
    }
   ],
   "source": [
    "arr5=np.random.randint(1,6,size=(2,2))\n",
    "arr6=np.random.randint(1,6,size=(2,2))\n",
    "print(arr5)\n",
    "print(arr6)"
   ]
  },
  {
   "cell_type": "code",
   "execution_count": 43,
   "id": "aab6e9cf",
   "metadata": {},
   "outputs": [
    {
     "name": "stdout",
     "output_type": "stream",
     "text": [
      "[[4 5]\n",
      " [3 5]]\n"
     ]
    }
   ],
   "source": [
    "t_matrix=arr6.transpose()\n",
    "print(t_matrix)"
   ]
  },
  {
   "cell_type": "code",
   "execution_count": 44,
   "id": "a6058127",
   "metadata": {},
   "outputs": [
    {
     "name": "stdout",
     "output_type": "stream",
     "text": [
      "[[9 6]\n",
      " [8 6]]\n"
     ]
    }
   ],
   "source": [
    "c=arr5+t_matrix\n",
    "print(c)"
   ]
  }
 ],
 "metadata": {
  "kernelspec": {
   "display_name": "Python 3 (ipykernel)",
   "language": "python",
   "name": "python3"
  },
  "language_info": {
   "codemirror_mode": {
    "name": "ipython",
    "version": 3
   },
   "file_extension": ".py",
   "mimetype": "text/x-python",
   "name": "python",
   "nbconvert_exporter": "python",
   "pygments_lexer": "ipython3",
   "version": "3.11.5"
  }
 },
 "nbformat": 4,
 "nbformat_minor": 5
}
