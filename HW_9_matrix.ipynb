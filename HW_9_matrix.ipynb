{
 "cells": [
  {
   "cell_type": "markdown",
   "id": "7d54f7df",
   "metadata": {},
   "source": [
    "1. Создание массивов:\n",
    "\n",
    "a. Создайте одномерный массив из 5 целых чисел.\n",
    "\n",
    "b. Создайте трехмерный массив размером 3x3х3, то есть должно быть три матрицы с размером  3х3.\n",
    "\n",
    "с. Создайте одномерный массив из 8 случайных целых чисел в диапазоне от 1 до 20."
   ]
  },
  {
   "cell_type": "code",
   "execution_count": 3,
   "id": "43e09446",
   "metadata": {},
   "outputs": [],
   "source": [
    "import numpy as np\n",
    "import random \n",
    "#a\n",
    "arr1=np.array([1,2,4,5,6])\n",
    "#b\n",
    "arr2 = np.array([[[1, 2, 3],\n",
    "                      [4, 5, 6],\n",
    "                      [7, 8, 9]],\n",
    "                     \n",
    "                     [[10, 11, 12],\n",
    "                      [13, 14, 15],\n",
    "                      [16, 17, 18]],\n",
    "                     \n",
    "                     [[19, 20, 21],\n",
    "                      [22, 23, 24],\n",
    "                      [25, 26, 27]]])\n",
    "#c\n",
    "arr3=np.random.randint(1, 20, 8)"
   ]
  },
  {
   "cell_type": "code",
   "execution_count": 11,
   "id": "88d2400f",
   "metadata": {},
   "outputs": [
    {
     "name": "stdout",
     "output_type": "stream",
     "text": [
      "[1 2 4 5 6]\n"
     ]
    }
   ],
   "source": [
    "print(arr1)"
   ]
  },
  {
   "cell_type": "code",
   "execution_count": 18,
   "id": "aeb6fb00",
   "metadata": {},
   "outputs": [
    {
     "name": "stdout",
     "output_type": "stream",
     "text": [
      "[[[ 1  2  3]\n",
      "  [ 4  5  6]\n",
      "  [ 7  8  9]]\n",
      "\n",
      " [[10 11 12]\n",
      "  [13 14 15]\n",
      "  [16 17 18]]\n",
      "\n",
      " [[19 20 21]\n",
      "  [22 23 24]\n",
      "  [25 26 27]]]\n"
     ]
    }
   ],
   "source": [
    "print(arr2)"
   ]
  },
  {
   "cell_type": "code",
   "execution_count": 15,
   "id": "ff7daa54",
   "metadata": {},
   "outputs": [
    {
     "name": "stdout",
     "output_type": "stream",
     "text": [
      "[ 2 11 16 17 17 18  7  1]\n"
     ]
    }
   ],
   "source": [
    "print(arr3)"
   ]
  },
  {
   "cell_type": "markdown",
   "id": "25b90887",
   "metadata": {},
   "source": [
    "2. Работа с элементами массивами\n",
    "\n",
    "a. Найдите и выведите второй элемент вашего одномерного массива.\n",
    "\n",
    "b. Найдите и выведите значение во второй строке и третьем столбце  первой матрицы вашего трехмерного массива.\n",
    "\n",
    "с. Поменяйте любое  значение 2 матрицы трехмерного массива"
   ]
  },
  {
   "cell_type": "code",
   "execution_count": 16,
   "id": "c5e4255b",
   "metadata": {},
   "outputs": [
    {
     "name": "stdout",
     "output_type": "stream",
     "text": [
      "2\n"
     ]
    }
   ],
   "source": [
    "#a\n",
    "for i in range(len(arr1)):\n",
    "    if i==1:\n",
    "        print(arr1[i])"
   ]
  },
  {
   "cell_type": "code",
   "execution_count": 19,
   "id": "1846ff3a",
   "metadata": {},
   "outputs": [
    {
     "name": "stdout",
     "output_type": "stream",
     "text": [
      "6\n"
     ]
    }
   ],
   "source": [
    "#b\n",
    "print(arr2[0, 1, 2])"
   ]
  },
  {
   "cell_type": "code",
   "execution_count": 20,
   "id": "4c0403ec",
   "metadata": {},
   "outputs": [],
   "source": [
    "#c\n",
    "arr2[1, 2, 1] = 100"
   ]
  },
  {
   "cell_type": "code",
   "execution_count": 21,
   "id": "6e804d32",
   "metadata": {},
   "outputs": [
    {
     "data": {
      "text/plain": [
       "array([[[  1,   2,   3],\n",
       "        [  4,   5,   6],\n",
       "        [  7,   8,   9]],\n",
       "\n",
       "       [[ 10,  11,  12],\n",
       "        [ 13,  14,  15],\n",
       "        [ 16, 100,  18]],\n",
       "\n",
       "       [[ 19,  20,  21],\n",
       "        [ 22,  23,  24],\n",
       "        [ 25,  26,  27]]])"
      ]
     },
     "execution_count": 21,
     "metadata": {},
     "output_type": "execute_result"
    }
   ],
   "source": [
    "arr2"
   ]
  },
  {
   "cell_type": "markdown",
   "id": "bb89fc1e",
   "metadata": {},
   "source": [
    "3. Работа со срезами\n",
    "\n",
    "a. Создайте одномерный массив от 1 до 9. Используя срезы, выведите элементы от 3 до 9\n",
    "\n",
    "b. Создайте двумерную матрицу. Используя срезы, выведите следующие подматрицы:\n",
    "\n",
    "            Первые три строки матрицы.\n",
    "\n",
    "            Последний столбец матрицы."
   ]
  },
  {
   "cell_type": "code",
   "execution_count": 23,
   "id": "13ee05d5",
   "metadata": {},
   "outputs": [],
   "source": [
    "#a\n",
    "arr1=np.arange(1,10)"
   ]
  },
  {
   "cell_type": "code",
   "execution_count": 24,
   "id": "185a544e",
   "metadata": {},
   "outputs": [
    {
     "data": {
      "text/plain": [
       "array([1, 2, 3, 4, 5, 6, 7, 8, 9])"
      ]
     },
     "execution_count": 24,
     "metadata": {},
     "output_type": "execute_result"
    }
   ],
   "source": [
    "arr1"
   ]
  },
  {
   "cell_type": "code",
   "execution_count": 26,
   "id": "9af57f9a",
   "metadata": {},
   "outputs": [
    {
     "data": {
      "text/plain": [
       "array([4, 5, 6, 7, 8, 9])"
      ]
     },
     "execution_count": 26,
     "metadata": {},
     "output_type": "execute_result"
    }
   ],
   "source": [
    "arr1[3:10]"
   ]
  },
  {
   "cell_type": "code",
   "execution_count": 4,
   "id": "e6b1be13",
   "metadata": {},
   "outputs": [],
   "source": [
    "#b\n",
    "arr2=np.array([[1,2,3,4],[2,4,6,8],[3,6,9,12],[4,8,6,10]])"
   ]
  },
  {
   "cell_type": "code",
   "execution_count": 39,
   "id": "908a5763",
   "metadata": {},
   "outputs": [
    {
     "data": {
      "text/plain": [
       "array([[ 1,  2,  3,  4],\n",
       "       [ 2,  4,  6,  8],\n",
       "       [ 3,  6,  9, 12],\n",
       "       [ 4,  8,  6, 10]])"
      ]
     },
     "execution_count": 39,
     "metadata": {},
     "output_type": "execute_result"
    }
   ],
   "source": [
    "arr2"
   ]
  },
  {
   "cell_type": "code",
   "execution_count": 44,
   "id": "521f9b80",
   "metadata": {},
   "outputs": [
    {
     "data": {
      "text/plain": [
       "array([[ 1,  2,  3,  4],\n",
       "       [ 2,  4,  6,  8],\n",
       "       [ 3,  6,  9, 12]])"
      ]
     },
     "execution_count": 44,
     "metadata": {},
     "output_type": "execute_result"
    }
   ],
   "source": [
    "arr2[:3]"
   ]
  },
  {
   "cell_type": "code",
   "execution_count": 6,
   "id": "2341248b",
   "metadata": {},
   "outputs": [
    {
     "data": {
      "text/plain": [
       "array([ 4,  8, 12, 10])"
      ]
     },
     "execution_count": 6,
     "metadata": {},
     "output_type": "execute_result"
    }
   ],
   "source": [
    "arr2[:,-1]"
   ]
  },
  {
   "cell_type": "code",
   "execution_count": 17,
   "id": "cecad35e",
   "metadata": {},
   "outputs": [
    {
     "name": "stdout",
     "output_type": "stream",
     "text": [
      "Requirement already satisfied: opencv-python in c:\\users\\assel\\anaconda3\\lib\\site-packages (4.9.0.80)Note: you may need to restart the kernel to use updated packages.\n",
      "\n",
      "Requirement already satisfied: numpy>=1.21.2 in c:\\users\\assel\\anaconda3\\lib\\site-packages (from opencv-python) (1.24.3)\n"
     ]
    }
   ],
   "source": [
    "pip install opencv-python\n"
   ]
  },
  {
   "cell_type": "code",
   "execution_count": 20,
   "id": "b7d7036a",
   "metadata": {},
   "outputs": [
    {
     "ename": "error",
     "evalue": "OpenCV(4.9.0) D:\\a\\opencv-python\\opencv-python\\opencv\\modules\\imgproc\\src\\color.cpp:196: error: (-215:Assertion failed) !_src.empty() in function 'cv::cvtColor'\n",
     "output_type": "error",
     "traceback": [
      "\u001b[1;31m---------------------------------------------------------------------------\u001b[0m",
      "\u001b[1;31merror\u001b[0m                                     Traceback (most recent call last)",
      "Cell \u001b[1;32mIn[20], line 4\u001b[0m\n\u001b[0;32m      1\u001b[0m \u001b[38;5;28;01mimport\u001b[39;00m \u001b[38;5;21;01mcv2\u001b[39;00m\n\u001b[0;32m      3\u001b[0m image \u001b[38;5;241m=\u001b[39m cv2\u001b[38;5;241m.\u001b[39mimread(\u001b[38;5;124m'\u001b[39m\u001b[38;5;124mpic png.png\u001b[39m\u001b[38;5;124m'\u001b[39m)\n\u001b[1;32m----> 4\u001b[0m image \u001b[38;5;241m=\u001b[39m cv2\u001b[38;5;241m.\u001b[39mcvtColor(image, cv2\u001b[38;5;241m.\u001b[39mCOLOR_BGR2RGB) \u001b[38;5;66;03m# Convert from BGR to RGB\u001b[39;00m\n\u001b[0;32m      6\u001b[0m \u001b[38;5;28;01mimport\u001b[39;00m \u001b[38;5;21;01mnumpy\u001b[39;00m \u001b[38;5;28;01mas\u001b[39;00m \u001b[38;5;21;01mnp\u001b[39;00m\n\u001b[0;32m      7\u001b[0m \u001b[38;5;28;01mimport\u001b[39;00m \u001b[38;5;21;01mmatplotlib\u001b[39;00m\u001b[38;5;21;01m.\u001b[39;00m\u001b[38;5;21;01mpyplot\u001b[39;00m \u001b[38;5;28;01mas\u001b[39;00m \u001b[38;5;21;01mplt\u001b[39;00m\n",
      "\u001b[1;31merror\u001b[0m: OpenCV(4.9.0) D:\\a\\opencv-python\\opencv-python\\opencv\\modules\\imgproc\\src\\color.cpp:196: error: (-215:Assertion failed) !_src.empty() in function 'cv::cvtColor'\n"
     ]
    }
   ],
   "source": [
    "import cv2\n",
    "\n",
    "image = cv2.imread('pic png.png')\n",
    "image = cv2.cvtColor(image, cv2.COLOR_BGR2RGB) # Convert from BGR to RGB\n",
    "\n",
    "import numpy as np\n",
    "import matplotlib.pyplot as plt\n",
    "from skimage import data, color\n",
    "\n",
    "blue_white_image = np.copy(image)\n",
    "blue_white_image[:, :, 0] = 0 # Red channel\n",
    "blue_white_image[:, :, 1] = 0 # Green channel\n",
    "bright_areas = blue_white_image[:, :, 2] > 120\n",
    "blue_white_image[bright_areas, 2] = 255\n",
    "\n",
    "plt.figure(figsize=(12, 6))\n",
    "plt.subplot(1, 2, 1)\n",
    "plt.imshow(image)\n",
    "plt.title('Original Image')\n",
    "plt.axis('off')\n",
    "plt.subplot(1, 2, 2)\n",
    "plt.imshow(blue_white_image)\n",
    "plt.title('Blue and White Image')\n",
    "plt.axis('off')\n",
    "\n",
    "plt.show()"
   ]
  },
  {
   "cell_type": "code",
   "execution_count": null,
   "id": "ccd778a9",
   "metadata": {},
   "outputs": [],
   "source": []
  }
 ],
 "metadata": {
  "kernelspec": {
   "display_name": "Python 3 (ipykernel)",
   "language": "python",
   "name": "python3"
  },
  "language_info": {
   "codemirror_mode": {
    "name": "ipython",
    "version": 3
   },
   "file_extension": ".py",
   "mimetype": "text/x-python",
   "name": "python",
   "nbconvert_exporter": "python",
   "pygments_lexer": "ipython3",
   "version": "3.11.5"
  }
 },
 "nbformat": 4,
 "nbformat_minor": 5
}
