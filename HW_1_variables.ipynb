{
 "cells": [
  {
   "cell_type": "markdown",
   "id": "84a4bcc8",
   "metadata": {},
   "source": [
    "2. Создайте переменную, сохраните в ней любой текст, и выведите эту переменную на экране. Затем замените значение переменной другим текстом и выведите еще раз эту переменную на экран."
   ]
  },
  {
   "cell_type": "code",
   "execution_count": 1,
   "id": "00a800e6",
   "metadata": {},
   "outputs": [],
   "source": [
    "text1=\"My name is Assel\""
   ]
  },
  {
   "cell_type": "code",
   "execution_count": 2,
   "id": "6c114f38",
   "metadata": {},
   "outputs": [
    {
     "name": "stdout",
     "output_type": "stream",
     "text": [
      "My name is Assel\n"
     ]
    }
   ],
   "source": [
    "print(text1)"
   ]
  },
  {
   "cell_type": "code",
   "execution_count": 3,
   "id": "0798d430",
   "metadata": {},
   "outputs": [],
   "source": [
    "text1=\"My name is Abdurakhman\""
   ]
  },
  {
   "cell_type": "code",
   "execution_count": 4,
   "id": "9c3d01a5",
   "metadata": {},
   "outputs": [
    {
     "name": "stdout",
     "output_type": "stream",
     "text": [
      "My name is Abdurakhman\n"
     ]
    }
   ],
   "source": [
    "print(text1)"
   ]
  },
  {
   "cell_type": "markdown",
   "id": "f4695781",
   "metadata": {},
   "source": [
    "3. Сохраните свое имя и фамилию в двух переменных. Далее создайте переменную, которая будет содержать и имя, и фамилию (используя ранее созданные переменные), и выведите новую переменную в нижнем регистре, в верхнем регистре и с капитализацией начальных букв каждого слова.\n",
    "\n"
   ]
  },
  {
   "cell_type": "code",
   "execution_count": 5,
   "id": "5cc6a54c",
   "metadata": {},
   "outputs": [],
   "source": [
    "firstname='Assel'\n",
    "lastname='Uzakova'"
   ]
  },
  {
   "cell_type": "code",
   "execution_count": 6,
   "id": "9311fa5c",
   "metadata": {},
   "outputs": [],
   "source": [
    "full_name=firstname+' '+lastname"
   ]
  },
  {
   "cell_type": "code",
   "execution_count": 7,
   "id": "e2059246",
   "metadata": {},
   "outputs": [
    {
     "name": "stdout",
     "output_type": "stream",
     "text": [
      "Assel Uzakova\n"
     ]
    }
   ],
   "source": [
    "print(full_name)"
   ]
  },
  {
   "cell_type": "code",
   "execution_count": 8,
   "id": "e76cc7bd",
   "metadata": {},
   "outputs": [
    {
     "data": {
      "text/plain": [
       "'assel uzakova'"
      ]
     },
     "execution_count": 8,
     "metadata": {},
     "output_type": "execute_result"
    }
   ],
   "source": [
    "full_name.lower()"
   ]
  },
  {
   "cell_type": "code",
   "execution_count": 9,
   "id": "317aa57e",
   "metadata": {},
   "outputs": [
    {
     "data": {
      "text/plain": [
       "'ASSEL UZAKOVA'"
      ]
     },
     "execution_count": 9,
     "metadata": {},
     "output_type": "execute_result"
    }
   ],
   "source": [
    "full_name.upper()"
   ]
  },
  {
   "cell_type": "code",
   "execution_count": 10,
   "id": "8e46c244",
   "metadata": {},
   "outputs": [
    {
     "data": {
      "text/plain": [
       "'Assel Uzakova'"
      ]
     },
     "execution_count": 10,
     "metadata": {},
     "output_type": "execute_result"
    }
   ],
   "source": [
    "full_name.title()"
   ]
  },
  {
   "cell_type": "markdown",
   "id": "73b753fd",
   "metadata": {},
   "source": [
    "4. Выведите свое имя в консоль с помощью \"\\t\" и \"\\n\", как указано ниже:\n",
    "\n",
    "K\n",
    "\n",
    "    a\n",
    "\n",
    "        i\n",
    "\n",
    "           r\n",
    "\n",
    "              a\n",
    "\n",
    "                 t"
   ]
  },
  {
   "cell_type": "code",
   "execution_count": 16,
   "id": "bd67dd45",
   "metadata": {},
   "outputs": [
    {
     "name": "stdout",
     "output_type": "stream",
     "text": [
      "A\n",
      "\ts\n",
      "\t\ts\n",
      "\t\t\te\n",
      "\t\t\t\tl\n"
     ]
    }
   ],
   "source": [
    "print('A\\n\\ts\\n\\t\\ts\\n\\t\\t\\te\\n\\t\\t\\t\\tl')"
   ]
  },
  {
   "cell_type": "markdown",
   "id": "3919aefe",
   "metadata": {},
   "source": [
    "5. Cохраните свое любимое число в переменной. Затем используя эту переменную выведите текст \"Мое любимое число: ваше число\". Например: Мое любимое число: 17 (ваше число)"
   ]
  },
  {
   "cell_type": "code",
   "execution_count": 17,
   "id": "13dcc551",
   "metadata": {},
   "outputs": [],
   "source": [
    "my_number=9"
   ]
  },
  {
   "cell_type": "code",
   "execution_count": 18,
   "id": "31c22556",
   "metadata": {},
   "outputs": [
    {
     "name": "stdout",
     "output_type": "stream",
     "text": [
      "Мое любимое число: 9\n"
     ]
    }
   ],
   "source": [
    "print(\"Мое любимое число:\",my_number)"
   ]
  },
  {
   "cell_type": "markdown",
   "id": "be736e8d",
   "metadata": {},
   "source": [
    "6. Напишите операции сложения, вычитания, умножения и деления, результатом которых является число 8. Не забудьте заключить операции в команды print(), чтобы проверить результат. Вы должны написать четыре строки кода. Например одна из строк: print(5+3)"
   ]
  },
  {
   "cell_type": "code",
   "execution_count": 20,
   "id": "cdd53e62",
   "metadata": {},
   "outputs": [
    {
     "name": "stdout",
     "output_type": "stream",
     "text": [
      "8\n",
      "8\n",
      "8\n",
      "8\n"
     ]
    }
   ],
   "source": [
    "print(4+4)\n",
    "print(14-6)\n",
    "print(4*2)\n",
    "print(int(16/2))"
   ]
  },
  {
   "cell_type": "code",
   "execution_count": null,
   "id": "7d923f03",
   "metadata": {},
   "outputs": [],
   "source": []
  }
 ],
 "metadata": {
  "kernelspec": {
   "display_name": "Python 3 (ipykernel)",
   "language": "python",
   "name": "python3"
  },
  "language_info": {
   "codemirror_mode": {
    "name": "ipython",
    "version": 3
   },
   "file_extension": ".py",
   "mimetype": "text/x-python",
   "name": "python",
   "nbconvert_exporter": "python",
   "pygments_lexer": "ipython3",
   "version": "3.11.5"
  }
 },
 "nbformat": 4,
 "nbformat_minor": 5
}
