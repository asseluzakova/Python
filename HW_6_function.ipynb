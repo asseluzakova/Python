{
 "cells": [
  {
   "cell_type": "markdown",
   "id": "6503bda7",
   "metadata": {},
   "source": [
    "1. Функция Суммирования:\n",
    "\n",
    "   Напишите функцию sum_numbers, которая принимает два числа как аргументы и возвращает их сумму."
   ]
  },
  {
   "cell_type": "code",
   "execution_count": 1,
   "id": "9bf6be6d",
   "metadata": {},
   "outputs": [],
   "source": [
    "sum_numbers=lambda x,y:x+y"
   ]
  },
  {
   "cell_type": "code",
   "execution_count": 2,
   "id": "6689bae3",
   "metadata": {},
   "outputs": [
    {
     "name": "stdout",
     "output_type": "stream",
     "text": [
      "15\n"
     ]
    }
   ],
   "source": [
    "print(sum_numbers(7,8))"
   ]
  },
  {
   "cell_type": "markdown",
   "id": "04305950",
   "metadata": {},
   "source": [
    "2. Функция Проверки Четности:\n",
    "\n",
    "   Создайте функцию is_even, которая принимает одно число и возвращает True, если число четное, и False, если нечетное."
   ]
  },
  {
   "cell_type": "code",
   "execution_count": 4,
   "id": "135e64a1",
   "metadata": {},
   "outputs": [
    {
     "name": "stdout",
     "output_type": "stream",
     "text": [
      "False\n"
     ]
    }
   ],
   "source": [
    "is_even=lambda x:x%2==0\n",
    "print(is_even(3))"
   ]
  },
  {
   "cell_type": "markdown",
   "id": "079e235a",
   "metadata": {},
   "source": [
    "3. Функция Поиска Максимума:\n",
    "\n",
    "   Реализуйте функцию find_max, которая принимает список чисел и возвращает самое большое число в списке.\n",
    "\n"
   ]
  },
  {
   "cell_type": "code",
   "execution_count": 5,
   "id": "88dd3ff7",
   "metadata": {},
   "outputs": [],
   "source": [
    "def find_max(*numbers):\n",
    "    return max(numbers)"
   ]
  },
  {
   "cell_type": "code",
   "execution_count": 6,
   "id": "970d6147",
   "metadata": {},
   "outputs": [
    {
     "data": {
      "text/plain": [
       "9"
      ]
     },
     "execution_count": 6,
     "metadata": {},
     "output_type": "execute_result"
    }
   ],
   "source": [
    "find_max(2,3,6,1,-7,9,0)"
   ]
  },
  {
   "cell_type": "markdown",
   "id": "d52a5cf2",
   "metadata": {},
   "source": [
    "4. Функция Конвертации Температуры:\n",
    "\n",
    "   Напишите функцию celsius_to_fahrenheit, которая конвертирует температуру из градусов Цельсия в градусы Фаренгейта."
   ]
  },
  {
   "cell_type": "code",
   "execution_count": 8,
   "id": "8416c533",
   "metadata": {},
   "outputs": [
    {
     "name": "stdout",
     "output_type": "stream",
     "text": [
      "37.4\n"
     ]
    }
   ],
   "source": [
    "celsius_to_fahrenheit=lambda x:x*(9/5)+32\n",
    "print(celsius_to_fahrenheit(3))"
   ]
  },
  {
   "cell_type": "markdown",
   "id": "0c34344a",
   "metadata": {},
   "source": [
    "5. Функция Подсчета Гласных:\n",
    "\n",
    "Создайте функцию count_vowels, которая принимает строку и возвращает количество гласных букв (а, е, и, о, у, ы, э, ю, я) в этой строке. Например, для строки \"привет\" функция должна вернуть 2."
   ]
  },
  {
   "cell_type": "code",
   "execution_count": 9,
   "id": "2465587b",
   "metadata": {},
   "outputs": [],
   "source": [
    "def count_vowels(word):\n",
    "    vowels='аеиоуыэюяАЕИОУЫЭЮЯ'\n",
    "    counter=0\n",
    "    for i in range(len(word)):\n",
    "        if word[i] in vowels:\n",
    "            counter+=1\n",
    "    return counter"
   ]
  },
  {
   "cell_type": "code",
   "execution_count": 11,
   "id": "6255293a",
   "metadata": {},
   "outputs": [
    {
     "data": {
      "text/plain": [
       "6"
      ]
     },
     "execution_count": 11,
     "metadata": {},
     "output_type": "execute_result"
    }
   ],
   "source": [
    "count_vowels('Ассаламалейкум')"
   ]
  },
  {
   "cell_type": "code",
   "execution_count": null,
   "id": "039e9b44",
   "metadata": {},
   "outputs": [],
   "source": []
  }
 ],
 "metadata": {
  "kernelspec": {
   "display_name": "Python 3 (ipykernel)",
   "language": "python",
   "name": "python3"
  },
  "language_info": {
   "codemirror_mode": {
    "name": "ipython",
    "version": 3
   },
   "file_extension": ".py",
   "mimetype": "text/x-python",
   "name": "python",
   "nbconvert_exporter": "python",
   "pygments_lexer": "ipython3",
   "version": "3.11.5"
  }
 },
 "nbformat": 4,
 "nbformat_minor": 5
}
