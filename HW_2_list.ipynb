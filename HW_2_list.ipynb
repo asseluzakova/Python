{
 "cells": [
  {
   "cell_type": "markdown",
   "id": "f3aece93",
   "metadata": {},
   "source": [
    "1. Выберите свой любимый вид спорта и создайте список с именами выдающихся спортсменов. Используйте свой список для вывода утверждений об элементах пример: «Я хотел бы сыграть с Gerrard».\n",
    "Вывод:\n",
    "«Я хотел бы сыграть с Gerrard»\n",
    "«Я хотел бы сыграть с Ronaldo»\n",
    "«Я хотел бы сыграть с Messi»"
   ]
  },
  {
   "cell_type": "code",
   "execution_count": 2,
   "id": "7e237ac4",
   "metadata": {},
   "outputs": [],
   "source": [
    "sport_names=['Sabina','Madina','Olga']"
   ]
  },
  {
   "cell_type": "code",
   "execution_count": 4,
   "id": "ce0d69dc",
   "metadata": {},
   "outputs": [
    {
     "name": "stdout",
     "output_type": "stream",
     "text": [
      "Я хотела бы сыграть с Sabina\n",
      "Я хотела бы сыграть с Madina\n",
      "Я хотела бы сыграть с Olga\n"
     ]
    }
   ],
   "source": [
    "print('Я хотела бы сыграть с',sport_names[0])\n",
    "print('Я хотела бы сыграть с',sport_names[1])\n",
    "print('Я хотела бы сыграть с',sport_names[2])"
   ]
  },
  {
   "cell_type": "markdown",
   "id": "edf994d0",
   "metadata": {},
   "source": [
    "2. Создайте список гостей, включающий минимум трех людей, которых вам хотелось бы пригласить на обед. Затем используйте этот список для вывода пригласительного сообщения каждому участнику используя f’формат.\n",
    "Вывод:\n",
    "«Приглашаю тебя, Кайрат, на обед»\n",
    "«Приглашаю тебя, Айжан, на обед»\n",
    "«Приглашаю тебя, Айдын, на обед»"
   ]
  },
  {
   "cell_type": "code",
   "execution_count": 5,
   "id": "475b4b24",
   "metadata": {},
   "outputs": [],
   "source": [
    "guests=['Abdu','Saida','Adil']"
   ]
  },
  {
   "cell_type": "code",
   "execution_count": 9,
   "id": "5f845955",
   "metadata": {},
   "outputs": [
    {
     "name": "stdout",
     "output_type": "stream",
     "text": [
      "Приглашаю тебя,Abdu,на обед\n",
      "Приглашаю тебя,Saida,на обед\n",
      "Приглашаю тебя,Adil,на обед\n"
     ]
    }
   ],
   "source": [
    "print(f\"Приглашаю тебя,{guests[0]},на обед\")\n",
    "print(f\"Приглашаю тебя,{guests[1]},на обед\")\n",
    "print(f\"Приглашаю тебя,{guests[2]},на обед\")"
   ]
  },
  {
   "cell_type": "markdown",
   "id": "2c468006",
   "metadata": {},
   "source": [
    "3. Представим, что вы решили купить обеденный стол большего размера. Дополнительные места позволяют пригласить на обед еще трех гостей. Добавьте в конец программы команду print, которая выводит сообщение о расширении списка гостей.\n",
    "\n",
    "Вывод:\n",
    "\n",
    "«Расширяем список гостей»\n",
    "\n",
    "\n",
    "\n",
    "- Добавьте вызов insert() для добавления одного гостя в начало списка.\n",
    "\n",
    "- Добавьте вызов insert() для добавления одного гостя в середину списка.\n",
    "\n",
    "- Добавьте вызов append() для добавления одного гостя в конец списка.\n",
    "\n",
    "- Выведите новый набор сообщений с приглашениями — по одному для каждого участника, входящего в список.\n",
    "\n",
    "Вывод:\n",
    "\n",
    "«Приглашаю тебя, Арман, на обед»\n",
    "\n",
    "«Приглашаю тебя, Кайрат, на обед»\n",
    "\n",
    "«Приглашаю тебя, Канат, на обед»\n",
    "\n",
    "«Приглашаю тебя, Айжан, на обед»\n",
    "\n",
    " «Приглашаю тебя, Айдын, на обед»\n",
    "\n",
    "«Приглашаю тебя, Айтолкын, на обед»\n",
    "\n"
   ]
  },
  {
   "cell_type": "code",
   "execution_count": 10,
   "id": "8bccad82",
   "metadata": {},
   "outputs": [],
   "source": [
    "guests.insert(0,'Tumar')"
   ]
  },
  {
   "cell_type": "code",
   "execution_count": 11,
   "id": "2c54cd5b",
   "metadata": {},
   "outputs": [],
   "source": [
    "guests.insert(2,'Toresh')"
   ]
  },
  {
   "cell_type": "code",
   "execution_count": 12,
   "id": "50c82a43",
   "metadata": {},
   "outputs": [],
   "source": [
    "guests.append('Hamza')"
   ]
  },
  {
   "cell_type": "code",
   "execution_count": 15,
   "id": "655f302c",
   "metadata": {},
   "outputs": [
    {
     "name": "stdout",
     "output_type": "stream",
     "text": [
      "«Расширяем список гостей»\n",
      "Приглашаю тебя,Tumar,на обед\n",
      "Приглашаю тебя,Abdu,на обед\n",
      "Приглашаю тебя,Toresh,на обед\n",
      "Приглашаю тебя,Saida,на обед\n",
      "Приглашаю тебя,Adil,на обед\n",
      "Приглашаю тебя,Hamza,на обед\n"
     ]
    }
   ],
   "source": [
    "print(\"«Расширяем список гостей»\")\n",
    "print(f\"Приглашаю тебя,{guests[0]},на обед\")\n",
    "print(f\"Приглашаю тебя,{guests[1]},на обед\")\n",
    "print(f\"Приглашаю тебя,{guests[2]},на обед\")\n",
    "print(f\"Приглашаю тебя,{guests[3]},на обед\")\n",
    "print(f\"Приглашаю тебя,{guests[4]},на обед\")\n",
    "print(f\"Приглашаю тебя,{guests[5]},на обед\")"
   ]
  },
  {
   "cell_type": "markdown",
   "id": "1537b7bc",
   "metadata": {},
   "source": [
    "4. Выяснилось, что новый обеденный стол привезти вовремя не успеют и места хватит только для двух гостей. Добавьте команду для вывода сообщения о том, что на обед приглашаются всего два гостя.\n",
    "\n",
    "Вывод:\n",
    "\n",
    "«Уменьшаем список гостей»\n",
    "\n",
    "\n",
    "\n",
    "- Используйте метод pop() для последовательного удаления гостей из списка до тех пор, пока в списке не останутся только два человека.\n",
    "\n",
    "- Каждый раз, когда из списка удаляется очередное имя, выведите имя этого человека и сообщение о том, что вы сожалеете об отмене приглашения.\n",
    "\n",
    "Вывод:\n",
    "\n",
    "«Сожалею об отмене приглашения, Айтолкын, на обед»\n",
    "\n",
    "«Сожалею об отмене приглашения, Айдын, на обед»\n",
    "\n",
    "«Сожалею об отмене приглашения, Канат, на обед»\n",
    "\n",
    "«Сожалею об отмене приглашения, Айжан, на обед»"
   ]
  },
  {
   "cell_type": "code",
   "execution_count": 18,
   "id": "7afa3409",
   "metadata": {},
   "outputs": [
    {
     "name": "stdout",
     "output_type": "stream",
     "text": [
      "Сожалею об отмене приглашения,Hamza , на обед»\n"
     ]
    }
   ],
   "source": [
    "pop_guest=guests.pop(-1)\n",
    "print(f\"Сожалею об отмене приглашения,{pop_guest} , на обед»\")"
   ]
  },
  {
   "cell_type": "code",
   "execution_count": 19,
   "id": "c011e169",
   "metadata": {},
   "outputs": [
    {
     "name": "stdout",
     "output_type": "stream",
     "text": [
      "Сожалею об отмене приглашения,Adil,на обед»\n"
     ]
    }
   ],
   "source": [
    "pop_guest=guests.pop(-1)\n",
    "print(f\"Сожалею об отмене приглашения,{pop_guest},на обед»\")"
   ]
  },
  {
   "cell_type": "code",
   "execution_count": 20,
   "id": "487e3d19",
   "metadata": {},
   "outputs": [
    {
     "name": "stdout",
     "output_type": "stream",
     "text": [
      "Сожалею об отмене приглашения,Saida , на обед»\n"
     ]
    }
   ],
   "source": [
    "pop_guest=guests.pop(-1)\n",
    "print(f\"Сожалею об отмене приглашения,{pop_guest} , на обед»\")"
   ]
  },
  {
   "cell_type": "code",
   "execution_count": 21,
   "id": "6c39c9ce",
   "metadata": {},
   "outputs": [
    {
     "name": "stdout",
     "output_type": "stream",
     "text": [
      "Сожалею об отмене приглашения,Toresh , на обед»\n"
     ]
    }
   ],
   "source": [
    "pop_guest=guests.pop(-1)\n",
    "print(f\"Сожалею об отмене приглашения,{pop_guest} , на обед»\")"
   ]
  },
  {
   "cell_type": "code",
   "execution_count": 22,
   "id": "55f2a52f",
   "metadata": {},
   "outputs": [
    {
     "data": {
      "text/plain": [
       "['Tumar', 'Abdu']"
      ]
     },
     "execution_count": 22,
     "metadata": {},
     "output_type": "execute_result"
    }
   ],
   "source": [
    "guests"
   ]
  },
  {
   "cell_type": "markdown",
   "id": "6cb71f92",
   "metadata": {},
   "source": [
    "5. Вспомните хотя бы пять стран, в которых вам хотелось бы побывать.\n",
    "\n",
    "- Сохраните названия стран в списке. Проследите за тем, чтобы список не хранился в алфавитном порядке.\n",
    "\n",
    "- Выведите список в исходном порядке.\n",
    "\n",
    "- Используйте функцию sorted() для вывода списка в алфавитном порядке без изменения списка.\n",
    "\n",
    "- Снова выведите список, чтобы показать, что он по-прежнему хранится в исходном порядке.\n",
    "\n",
    "- Измените порядок элементов вызовом reverse().\n",
    "\n",
    "- Выведите список, чтобы показать, что элементы следуют в другом порядке."
   ]
  },
  {
   "cell_type": "code",
   "execution_count": 30,
   "id": "43680e16",
   "metadata": {},
   "outputs": [],
   "source": [
    "countries=['Saud Arabic','Egipet','Great Britain','Russia','Japon']"
   ]
  },
  {
   "cell_type": "code",
   "execution_count": 32,
   "id": "7586b91d",
   "metadata": {},
   "outputs": [],
   "source": [
    "countries.sort()"
   ]
  },
  {
   "cell_type": "code",
   "execution_count": 33,
   "id": "ef0c2e95",
   "metadata": {},
   "outputs": [
    {
     "data": {
      "text/plain": [
       "['Egipet', 'Great Britain', 'Japon', 'Russia', 'Saud Arabic']"
      ]
     },
     "execution_count": 33,
     "metadata": {},
     "output_type": "execute_result"
    }
   ],
   "source": [
    "countries"
   ]
  },
  {
   "cell_type": "code",
   "execution_count": 34,
   "id": "829e90af",
   "metadata": {},
   "outputs": [],
   "source": [
    "countries.sort(reverse=True)"
   ]
  },
  {
   "cell_type": "code",
   "execution_count": 35,
   "id": "d930da4f",
   "metadata": {},
   "outputs": [
    {
     "data": {
      "text/plain": [
       "['Saud Arabic', 'Russia', 'Japon', 'Great Britain', 'Egipet']"
      ]
     },
     "execution_count": 35,
     "metadata": {},
     "output_type": "execute_result"
    }
   ],
   "source": [
    "countries"
   ]
  },
  {
   "cell_type": "code",
   "execution_count": null,
   "id": "2d3ea104",
   "metadata": {},
   "outputs": [],
   "source": []
  }
 ],
 "metadata": {
  "kernelspec": {
   "display_name": "Python 3 (ipykernel)",
   "language": "python",
   "name": "python3"
  },
  "language_info": {
   "codemirror_mode": {
    "name": "ipython",
    "version": 3
   },
   "file_extension": ".py",
   "mimetype": "text/x-python",
   "name": "python",
   "nbconvert_exporter": "python",
   "pygments_lexer": "ipython3",
   "version": "3.11.5"
  }
 },
 "nbformat": 4,
 "nbformat_minor": 5
}
